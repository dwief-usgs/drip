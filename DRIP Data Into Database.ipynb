{
 "cells": [
  {
   "cell_type": "markdown",
   "metadata": {},
   "source": [
    "# This code documents the import of dam removal data into mongo and gc2 databases.  The code is a work in progress and will change through time.  "
   ]
  },
  {
   "cell_type": "code",
   "execution_count": 1,
   "metadata": {
    "collapsed": true
   },
   "outputs": [],
   "source": [
    "import urllib.request as urlreq\n",
    "import pandas as pd\n",
    "from bis2 import gc2\n",
    "from bis2 import mongo\n",
    "import requests, json, time, datetime, uuid\n",
    "\n",
    "import subprocess\n",
    "import geopandas as gpd\n",
    "from shapely.geometry import Point\n",
    "\n",
    "from DRIP_Functions_Variables import *"
   ]
  },
  {
   "cell_type": "markdown",
   "metadata": {},
   "source": [
    "# Import and Process Most Recent American Rivers Database"
   ]
  },
  {
   "cell_type": "code",
   "execution_count": 2,
   "metadata": {},
   "outputs": [
    {
     "name": "stdout",
     "output_type": "stream",
     "text": [
      "Data Year: 2016\n",
      "Data Url: https://ndownloader.figshare.com/files/9737656\n"
     ]
    }
   ],
   "source": [
    "#Determine newest data from American Rivers\n",
    "sbItemUrl = 'https://www.sciencebase.gov/catalog/item/5a1d7403e4b09fc93dd7bd9c?format=json'\n",
    "maxYearLink, maxYear = sbNewestData(arSbItemUrl)"
   ]
  },
  {
   "cell_type": "code",
   "execution_count": 3,
   "metadata": {},
   "outputs": [
    {
     "data": {
      "text/plain": [
       "('arDamRemovals2016.csv', <http.client.HTTPMessage at 0x28210fe8630>)"
      ]
     },
     "execution_count": 3,
     "metadata": {},
     "output_type": "execute_result"
    }
   ],
   "source": [
    "#Download most recent American Rivers file to local directory\n",
    "fileName = 'arDamRemovals' + str(maxYear) + '.csv'\n",
    "urlreq.urlretrieve(maxYearLink, fileName)"
   ]
  },
  {
   "cell_type": "code",
   "execution_count": 4,
   "metadata": {},
   "outputs": [],
   "source": [
    "# Read downloaded file into a pandas dataframe.  Note there are weird characters requiring the ISO encoding\n",
    "dfArDamRemovals = pd.read_csv(fileName, sep=',', encoding = \"ISO-8859-1\")"
   ]
  },
  {
   "cell_type": "code",
   "execution_count": 5,
   "metadata": {},
   "outputs": [],
   "source": [
    "#Set information for run and database connections\n",
    "thisRun = {}\n",
    "thisRun['instance'] = 'DataDistillery'\n",
    "thisRun['db'] = 'BCB_beta'\n",
    "thisRun['baseURL'] = gc2.sqlAPI(thisRun['instance'],thisRun['db']) \n",
    "\n",
    "mongoColl = mongo.getCollection('arDamRemovals')"
   ]
  },
  {
   "cell_type": "code",
   "execution_count": 6,
   "metadata": {},
   "outputs": [
    {
     "data": {
      "text/html": [
       "<div>\n",
       "<style>\n",
       "    .dataframe thead tr:only-child th {\n",
       "        text-align: right;\n",
       "    }\n",
       "\n",
       "    .dataframe thead th {\n",
       "        text-align: left;\n",
       "    }\n",
       "\n",
       "    .dataframe tbody tr th {\n",
       "        vertical-align: top;\n",
       "    }\n",
       "</style>\n",
       "<table border=\"1\" class=\"dataframe\">\n",
       "  <thead>\n",
       "    <tr style=\"text-align: right;\">\n",
       "      <th></th>\n",
       "      <th>_id</th>\n",
       "      <th>ar_id</th>\n",
       "      <th>city_county</th>\n",
       "      <th>dam_height_ft</th>\n",
       "      <th>dam_length_ft</th>\n",
       "      <th>dam_name</th>\n",
       "      <th>ftype</th>\n",
       "      <th>gid</th>\n",
       "      <th>huc8</th>\n",
       "      <th>last_updated</th>\n",
       "      <th>...</th>\n",
       "      <th>original use</th>\n",
       "      <th>registrationcode</th>\n",
       "      <th>registrationdate</th>\n",
       "      <th>river</th>\n",
       "      <th>river_miles_reported</th>\n",
       "      <th>spatialcertainty</th>\n",
       "      <th>state</th>\n",
       "      <th>type_material</th>\n",
       "      <th>year_built</th>\n",
       "      <th>year_removed</th>\n",
       "    </tr>\n",
       "  </thead>\n",
       "  <tbody>\n",
       "    <tr>\n",
       "      <th>0</th>\n",
       "      <td>20e89558-768e-42e8-baeb-a96505b04e6e</td>\n",
       "      <td>AK-001</td>\n",
       "      <td>Kodiak</td>\n",
       "      <td>36</td>\n",
       "      <td>251</td>\n",
       "      <td>Lake Bettinger Complex Dam</td>\n",
       "      <td>Removed Dam</td>\n",
       "      <td>1</td>\n",
       "      <td>Kodiak-Afognak Islands</td>\n",
       "      <td>11/10/2017</td>\n",
       "      <td>...</td>\n",
       "      <td>Water supply</td>\n",
       "      <td></td>\n",
       "      <td>2017-11-17 14:46:04.531+00</td>\n",
       "      <td></td>\n",
       "      <td></td>\n",
       "      <td>https://www.sciencebase.gov/vocab/term/5822257...</td>\n",
       "      <td>AK</td>\n",
       "      <td>Timber</td>\n",
       "      <td>1959</td>\n",
       "      <td></td>\n",
       "    </tr>\n",
       "    <tr>\n",
       "      <th>1</th>\n",
       "      <td>ce8062a1-1c85-4990-94d9-cfda8a2c9cd5</td>\n",
       "      <td>AK-002</td>\n",
       "      <td>Kodiak</td>\n",
       "      <td></td>\n",
       "      <td>245</td>\n",
       "      <td>Bettinger Lower Reservoir Dam B</td>\n",
       "      <td>Removed Dam</td>\n",
       "      <td>2</td>\n",
       "      <td>Kodiak-Afognak Islands</td>\n",
       "      <td>11/10/2017</td>\n",
       "      <td>...</td>\n",
       "      <td>Water supply</td>\n",
       "      <td></td>\n",
       "      <td>2017-11-17 14:46:04.531+00</td>\n",
       "      <td></td>\n",
       "      <td></td>\n",
       "      <td>https://www.sciencebase.gov/vocab/term/5822257...</td>\n",
       "      <td>AK</td>\n",
       "      <td>Timber</td>\n",
       "      <td>1959</td>\n",
       "      <td></td>\n",
       "    </tr>\n",
       "    <tr>\n",
       "      <th>2</th>\n",
       "      <td>14e8097c-f462-4463-a4a1-a1d1505fa8bf</td>\n",
       "      <td>AK-003</td>\n",
       "      <td>Matanuska-Susitna</td>\n",
       "      <td></td>\n",
       "      <td>379</td>\n",
       "      <td>Memory Estates Dam #1</td>\n",
       "      <td>Removed Dam</td>\n",
       "      <td>3</td>\n",
       "      <td>Talkeetna River</td>\n",
       "      <td>11/10/2017</td>\n",
       "      <td>...</td>\n",
       "      <td>Recreation</td>\n",
       "      <td></td>\n",
       "      <td>2017-11-17 14:46:04.531+00</td>\n",
       "      <td></td>\n",
       "      <td></td>\n",
       "      <td>https://www.sciencebase.gov/vocab/term/5822257...</td>\n",
       "      <td>AK</td>\n",
       "      <td>Earthen</td>\n",
       "      <td>1973</td>\n",
       "      <td></td>\n",
       "    </tr>\n",
       "    <tr>\n",
       "      <th>3</th>\n",
       "      <td>e14316be-c826-4fa9-9b9f-845e5163601c</td>\n",
       "      <td>AK-004</td>\n",
       "      <td>Matanuska-Susitna</td>\n",
       "      <td></td>\n",
       "      <td>444</td>\n",
       "      <td>Memory Estates Dam #2</td>\n",
       "      <td>Removed Dam</td>\n",
       "      <td>4</td>\n",
       "      <td>Talkeetna River</td>\n",
       "      <td>11/10/2017</td>\n",
       "      <td>...</td>\n",
       "      <td>Recreation</td>\n",
       "      <td></td>\n",
       "      <td>2017-11-17 14:46:04.531+00</td>\n",
       "      <td></td>\n",
       "      <td></td>\n",
       "      <td>https://www.sciencebase.gov/vocab/term/5822257...</td>\n",
       "      <td>AK</td>\n",
       "      <td>Earthen</td>\n",
       "      <td>1973</td>\n",
       "      <td></td>\n",
       "    </tr>\n",
       "    <tr>\n",
       "      <th>4</th>\n",
       "      <td>19e8e9b1-2a36-4886-ade4-ca82b7cada6a</td>\n",
       "      <td>AK-005</td>\n",
       "      <td>Tongass National Forest, Juneau</td>\n",
       "      <td>15</td>\n",
       "      <td></td>\n",
       "      <td>Switzer One Dam</td>\n",
       "      <td>Removed Dam</td>\n",
       "      <td>5</td>\n",
       "      <td>Lynn Canal</td>\n",
       "      <td>11/10/2017</td>\n",
       "      <td>...</td>\n",
       "      <td></td>\n",
       "      <td></td>\n",
       "      <td>2017-11-17 14:46:04.531+00</td>\n",
       "      <td>Switzer Creek</td>\n",
       "      <td></td>\n",
       "      <td>https://www.sciencebase.gov/vocab/term/5822257...</td>\n",
       "      <td>AK</td>\n",
       "      <td></td>\n",
       "      <td></td>\n",
       "      <td>1988</td>\n",
       "    </tr>\n",
       "  </tbody>\n",
       "</table>\n",
       "<p>5 rows × 23 columns</p>\n",
       "</div>"
      ],
      "text/plain": [
       "                                    _id   ar_id  \\\n",
       "0  20e89558-768e-42e8-baeb-a96505b04e6e  AK-001   \n",
       "1  ce8062a1-1c85-4990-94d9-cfda8a2c9cd5  AK-002   \n",
       "2  14e8097c-f462-4463-a4a1-a1d1505fa8bf  AK-003   \n",
       "3  e14316be-c826-4fa9-9b9f-845e5163601c  AK-004   \n",
       "4  19e8e9b1-2a36-4886-ade4-ca82b7cada6a  AK-005   \n",
       "\n",
       "                       city_county dam_height_ft dam_length_ft  \\\n",
       "0                           Kodiak            36           251   \n",
       "1                           Kodiak                         245   \n",
       "2                Matanuska-Susitna                         379   \n",
       "3                Matanuska-Susitna                         444   \n",
       "4  Tongass National Forest, Juneau            15                 \n",
       "\n",
       "                          dam_name        ftype  gid                    huc8  \\\n",
       "0       Lake Bettinger Complex Dam  Removed Dam    1  Kodiak-Afognak Islands   \n",
       "1  Bettinger Lower Reservoir Dam B  Removed Dam    2  Kodiak-Afognak Islands   \n",
       "2            Memory Estates Dam #1  Removed Dam    3         Talkeetna River   \n",
       "3            Memory Estates Dam #2  Removed Dam    4         Talkeetna River   \n",
       "4                  Switzer One Dam  Removed Dam    5              Lynn Canal   \n",
       "\n",
       "  last_updated     ...       original use registrationcode  \\\n",
       "0   11/10/2017     ...       Water supply                    \n",
       "1   11/10/2017     ...       Water supply                    \n",
       "2   11/10/2017     ...         Recreation                    \n",
       "3   11/10/2017     ...         Recreation                    \n",
       "4   11/10/2017     ...                                       \n",
       "\n",
       "             registrationdate          river river_miles_reported  \\\n",
       "0  2017-11-17 14:46:04.531+00                                       \n",
       "1  2017-11-17 14:46:04.531+00                                       \n",
       "2  2017-11-17 14:46:04.531+00                                       \n",
       "3  2017-11-17 14:46:04.531+00                                       \n",
       "4  2017-11-17 14:46:04.531+00  Switzer Creek                        \n",
       "\n",
       "                                    spatialcertainty state type_material  \\\n",
       "0  https://www.sciencebase.gov/vocab/term/5822257...    AK        Timber   \n",
       "1  https://www.sciencebase.gov/vocab/term/5822257...    AK        Timber   \n",
       "2  https://www.sciencebase.gov/vocab/term/5822257...    AK       Earthen   \n",
       "3  https://www.sciencebase.gov/vocab/term/5822257...    AK       Earthen   \n",
       "4  https://www.sciencebase.gov/vocab/term/5822257...    AK                 \n",
       "\n",
       "  year_built year_removed  \n",
       "0       1959               \n",
       "1       1959               \n",
       "2       1973               \n",
       "3       1973               \n",
       "4                    1988  \n",
       "\n",
       "[5 rows x 23 columns]"
      ]
     },
     "execution_count": 6,
     "metadata": {},
     "output_type": "execute_result"
    }
   ],
   "source": [
    "#Prep for check to see what is existing\n",
    "intList = []\n",
    "floatList = []\n",
    "arFeatureList = []\n",
    "\n",
    "\n",
    "#query AR Table in GC2 to find features already captured and to build list of ints and floats\n",
    "q = (thisRun['baseURL'] + '&q=select * from drip.ardamremoval')\n",
    "\n",
    "try:\n",
    "    arInGc2 = requests.get(q).json()\n",
    "    arTypes = arInGc2['forStore']\n",
    "    arFeatures = arInGc2['features']\n",
    "\n",
    "    #Identify field types with int and float (need to specify these as we format data to push into Mongo)\n",
    "    for field in arTypes:\n",
    "        if field['type']=='integer':\n",
    "            intList.append(field['name'])\n",
    "        elif field['type']=='double precision':\n",
    "            floatList.append(field['name'])\n",
    "    #Create List of features already in database to help understand what is new.\n",
    "    for feature in arFeatures:\n",
    "        arFeatureList.append(feature['properties'])\n",
    "except:\n",
    "    print ('Gc2 query failed')\n",
    "\n",
    "currentArGc2 = pd.DataFrame(arFeatureList)\n",
    "currentArGc2.head()"
   ]
  },
  {
   "cell_type": "code",
   "execution_count": 10,
   "metadata": {},
   "outputs": [
    {
     "name": "stdout",
     "output_type": "stream",
     "text": [
      "0.004749951316212749\n"
     ]
    }
   ],
   "source": [
    "#Connect to Mongo Instance\n",
    "collName = 'arDamRemovals'\n",
    "arMongo = mongo.getCollection(collName)\n",
    "\n",
    "#Lists of integers and also floats, this is needed for pandasRowToDict (upload of data to Mongo fails without calling out ints and floats)\n",
    "gc2Data = []\n",
    "r = 0\n",
    "rMax = len(dfArDamRemovals)\n",
    "#rMax = 8    #Use for testing subset of data\n",
    "\n",
    "#Start time to help time process\n",
    "startTime = time.clock()\n",
    "\n",
    "#For each feature within the dataset build a dictionary and append to a list\n",
    "while r < rMax:\n",
    "    record = pandasRowToDict(dfArDamRemovals, intList, floatList, r)    \n",
    "    record['_id'] = str(uuid.uuid4())\n",
    "    record['registrationDate'] = datetime.datetime.utcnow().isoformat() \n",
    "    record['registrationCode'] = ''    #link to this code showing how data was registered\n",
    "    record['fType'] = 'Removed Dam'\n",
    "    record['spatialCertainty'] = 'https://www.sciencebase.gov/vocab/term/5822257ee4b0b3d9add24304'\n",
    "    r += 1\n",
    "    gc2Data.append(record)\n",
    "    \n",
    "#Create pandas dataframe\n",
    "gc2DfAll = pd.DataFrame(gc2Data)\n",
    "\n",
    "#Check for new AR_ID, create new dataframe \n",
    "newArDf = gc2DfAll[~gc2DfAll.AR_ID.isin(currentArGc2.ar_id)]\n",
    "\n",
    "#Revert back to list for mongo upload\n",
    "newArData = newArDf.to_dict('records')\n",
    "\n",
    "if newArData:\n",
    "    result = mongoColl.insert_many(newArData)\n",
    "\n",
    "    geometry = [Point(xy) for xy in zip(newArDf.Longitude, newArDf.Latitude)]\n",
    "    crs = {'init': 'epsg:4269'}\n",
    "    gdf = gpd.GeoDataFrame(newArDf, crs=crs, geometry=geometry)\n",
    "\n",
    "\n",
    "    #new records, this exports a shapefile to be uploaded into gc2 using append to table\n",
    "    #ideally row by row inserts would be better but we have ran into issues with that taking way to long\n",
    "    # records with no x, y need to be deleted somewhere along the way.\n",
    "    gdf.to_file('arDamRemovals2.shp', driver='ESRI Shapefile', crs_wkt='4269')\n",
    "\n",
    "else:\n",
    "    print ('No new updates')\n",
    "    \n",
    "print (str((time.clock()-startTime)/60))  #Print processing time in minutes\n",
    "\n",
    "\n"
   ]
  },
  {
   "cell_type": "markdown",
   "metadata": {},
   "source": [
    "# Import and Process Most Recent USGS Dam Removal Science Database"
   ]
  },
  {
   "cell_type": "markdown",
   "metadata": {
    "collapsed": true
   },
   "source": [
    "### Currently the Data Removal Science Database was accessed in MS Access Form and each table was exported as is in csv format. Tables were uploaded into gc2 through ui as is, using encoding 'ISO_8859_5' to deal with special characters. Table study design had symbols in field names which were also removed. These methods will be coded in future iterations of DRIP."
   ]
  },
  {
   "cell_type": "code",
   "execution_count": null,
   "metadata": {
    "collapsed": true
   },
   "outputs": [],
   "source": []
  },
  {
   "cell_type": "code",
   "execution_count": null,
   "metadata": {
    "collapsed": true
   },
   "outputs": [],
   "source": []
  },
  {
   "cell_type": "code",
   "execution_count": null,
   "metadata": {
    "collapsed": true
   },
   "outputs": [],
   "source": []
  },
  {
   "cell_type": "code",
   "execution_count": null,
   "metadata": {
    "collapsed": true
   },
   "outputs": [],
   "source": []
  },
  {
   "cell_type": "code",
   "execution_count": null,
   "metadata": {
    "collapsed": true
   },
   "outputs": [],
   "source": [
    "#Testing for USGS Dam Removal Science Database from MS Access format.... looking at new format for future data release so this isn't in MS Access"
   ]
  },
  {
   "cell_type": "code",
   "execution_count": null,
   "metadata": {
    "collapsed": true
   },
   "outputs": [],
   "source": [
    "downloadName = '20150527_USGS_Dam Removal_Science_Database.zip'\n",
    "downloadUrl = \"https://www.sciencebase.gov/catalog/file/get/55071bf9e4b02e76d757c076?f=__disk__5b%2F6c%2F95%2F5b6c95bfff37ca93b9255b14f9ba4ecfa1e88825\"\n",
    "#Download GAP HUC12 file to local directory\n",
    "ur.urlretrieve(downloadUrl, downloadName)\n",
    "\n",
    "#In working directory unzips file\n",
    "zip_ref = zipfile.ZipFile(downloadName, 'r')\n",
    "zip_ref.extractall()\n",
    "zip_ref.close()"
   ]
  },
  {
   "cell_type": "code",
   "execution_count": null,
   "metadata": {
    "collapsed": true
   },
   "outputs": [],
   "source": [
    "db_file = '20150527_Dam Removal Database.accdb'\n",
    "db = '{Microsoft Access Driver (*.mdb)}'\n",
    "cnxn = pyodbc.connect('DRIVER={' + db + '};DBQ={};Uid={};Pwd={};'.format(db_file, db))\n",
    "\n",
    "#query = \"SELECT * FROM Dams\"\n",
    "#dataf = pd.read_sql(query, cnxn)\n",
    "#cnxn.close()"
   ]
  },
  {
   "cell_type": "code",
   "execution_count": null,
   "metadata": {
    "collapsed": true
   },
   "outputs": [],
   "source": [
    "import pyodbc\n",
    "[x for x in pyodbc.drivers() if x.startswith('Microsoft Access Driver')]"
   ]
  }
 ],
 "metadata": {
  "kernelspec": {
   "display_name": "Python 3",
   "language": "python",
   "name": "python3"
  },
  "language_info": {
   "codemirror_mode": {
    "name": "ipython",
    "version": 3
   },
   "file_extension": ".py",
   "mimetype": "text/x-python",
   "name": "python",
   "nbconvert_exporter": "python",
   "pygments_lexer": "ipython3",
   "version": "3.6.1"
  }
 },
 "nbformat": 4,
 "nbformat_minor": 2
}
